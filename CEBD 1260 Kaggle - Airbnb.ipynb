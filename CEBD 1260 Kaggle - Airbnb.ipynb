{
 "cells": [
  {
   "cell_type": "code",
   "execution_count": null,
   "metadata": {},
   "outputs": [],
   "source": [
    "# import the library\n",
    "%matplotlib inline\n",
    "\n",
    "import pandas as pd\n",
    "import numpy as np\n",
    "import matplotlib.pyplot as plt\n",
    "import seaborn as sns\n",
    "\n",
    "# sklearn :: utils\n",
    "from sklearn.model_selection import train_test_split\n",
    "\n",
    "# sklearn :: models\n",
    "from sklearn.linear_model import LinearRegression\n",
    "from sklearn.ensemble import RandomForestRegressor\n",
    "\n",
    "# sklearn :: evaluation metrics\n",
    "from sklearn.metrics import mean_absolute_error\n",
    "from sklearn.metrics import mean_squared_error\n",
    "\n",
    "sns.set_style('whitegrid')"
   ]
  },
  {
   "cell_type": "markdown",
   "metadata": {},
   "source": [
    "## Import Raw Data"
   ]
  },
  {
   "cell_type": "code",
   "execution_count": null,
   "metadata": {},
   "outputs": [],
   "source": [
    "df = pd.read_csv('AirBnB - Regression/train.csv')\n",
    "df.columns\n",
    "df.head()"
   ]
  },
  {
   "cell_type": "markdown",
   "metadata": {},
   "source": [
    "## Clean Up Dataset"
   ]
  },
  {
   "cell_type": "code",
   "execution_count": null,
   "metadata": {},
   "outputs": [],
   "source": [
    "# remove thumbnail_url column\n",
    "df = df.drop('thumbnail_url', axis=1)"
   ]
  },
  {
   "cell_type": "code",
   "execution_count": null,
   "metadata": {},
   "outputs": [],
   "source": [
    "# convert data type - strip % symbol from host_response_rate\n",
    "df['host_response_rate'] = df['host_response_rate'].str.replace('%', '').astype(float)"
   ]
  },
  {
   "cell_type": "markdown",
   "metadata": {},
   "source": [
    "## Missing Data"
   ]
  },
  {
   "cell_type": "code",
   "execution_count": null,
   "metadata": {},
   "outputs": [],
   "source": [
    "# see how many missing values exist and where they are\n",
    "print(df.isnull().sum())"
   ]
  },
  {
   "cell_type": "code",
   "execution_count": null,
   "metadata": {},
   "outputs": [],
   "source": [
    "# fill in missing values in host_has_profile_pic, host_identity_verified with 'N/A'\n",
    "df['host_has_profile_pic'] = df['host_has_profile_pic'].fillna('N/A')\n",
    "df['host_identity_verified'] = df['host_identity_verified'].fillna('N/A')"
   ]
  },
  {
   "cell_type": "code",
   "execution_count": null,
   "metadata": {},
   "outputs": [],
   "source": [
    "# option 1: remove the listings that don't have a first/last review date\n",
    "# option 2: replace the missing date values with feature mean value\n"
   ]
  },
  {
   "cell_type": "code",
   "execution_count": null,
   "metadata": {},
   "outputs": [],
   "source": [
    "# host_response_rate, host_since_date: fill in nans with feature mean since some listings with reviews have nan host_response_rate\n",
    "# decent number of listings without a host_reponse_rate value"
   ]
  },
  {
   "cell_type": "code",
   "execution_count": null,
   "metadata": {},
   "outputs": [],
   "source": [
    "# those without a review date have 0 for number_of_reviews and nan review_scores_rating"
   ]
  },
  {
   "cell_type": "markdown",
   "metadata": {},
   "source": [
    "## Feature Engineering\n",
    "One-hot encode the following categorical features:\n",
    "    - property_type\n",
    "    - room_type\n",
    "    - bed_type\n",
    "    - cancellation_policy\n",
    "    - cleaning_fee\n",
    "    - city\n",
    "    - host_has_profile_pic\n",
    "    - host_identity_verified\n",
    "    - instant_bookable\n",
    "    - zipcode"
   ]
  },
  {
   "cell_type": "code",
   "execution_count": null,
   "metadata": {},
   "outputs": [],
   "source": [
    "# one-hot encode features\n",
    "df_proptype = pd.get_dummies(df['property_type'])\n",
    "df = pd.concat([df, df_proptype], axis=1)\n",
    "\n",
    "df_roomtype = pd.get_dummies(df['room_type'])\n",
    "df = pd.concat([df, df_roomtype], axis=1)\n",
    "\n",
    "df_bedtype = pd.get_dummies(df['bed_type'])\n",
    "df = pd.concat([df, df_bedtype], axis=1)\n",
    "\n",
    "df_cancel = pd.get_dummies(df['cancellation_policy'])\n",
    "df = pd.concat([df, df_cancel], axis=1)\n",
    "\n",
    "df_cleanfee = pd.get_dummies(df['cleaning_fee'])\n",
    "df_cleanfee.columns = ['cleaning_fee_false', 'cleaning_fee_true'] # got to check how they arrange new one-hot encoded columns\n",
    "df = pd.concat([df, df_cleanfee], axis=1)\n",
    "\n",
    "df_city = pd.get_dummies(df['city'])\n",
    "df = pd.concat([df, df_city], axis=1)\n",
    "\n",
    "df_hostpic = pd.get_dummies(df['host_has_profile_pic'])\n",
    "df_hostpic.columns = ['host_pic_false', 'host_pic_true', 'host_pic_na']\n",
    "df = pd.concat([df, df_hostpic], axis=1)\n",
    "\n",
    "df_hostid = pd.get_dummies(df['host_identity_verified'])\n",
    "df_hostid.columns = ['host_id_false', 'host_id_true', 'host_id_na']\n",
    "df = pd.concat([df, df_hostid], axis=1)\n",
    "\n",
    "df_instant = pd.get_dummies(df['instant_bookable'])\n",
    "df_instant.columns = ['instant_false', 'instant_true', 'instant_na']\n",
    "df = pd.concat([df, df_instant], axis=1)\n",
    "\n",
    "df_zipcode = pd.get_dummies(df['zipcode'])\n",
    "df = pd.concat([df, df_zipcode], axis=1)\n",
    "\n",
    "df.head()"
   ]
  },
  {
   "cell_type": "code",
   "execution_count": null,
   "metadata": {},
   "outputs": [],
   "source": [
    "# convert dates to number of days_ago\n",
    "import dateutil.parser\n",
    "from datetime import datetime\n",
    "\n",
    "def ndays(date): # pass in timestamp\n",
    "    date_format = \"%d/%m/%Y\"\n",
    "    today = '14/5/2019'\n",
    "    delta = datetime.strptime(today, date_format) - datetime.strptime(str(dateutil.parser.parse(str(date)).date()), date_format)\n",
    "    return delta.days\n",
    "\n",
    "df['first_review'].apply(ndays)\n",
    "df['host_since'].apply(ndays)\n",
    "df['last_review'].apply(ndays)"
   ]
  },
  {
   "cell_type": "markdown",
   "metadata": {},
   "source": [
    "## Models"
   ]
  },
  {
   "cell_type": "code",
   "execution_count": null,
   "metadata": {},
   "outputs": [],
   "source": [
    "# import Regressors\n",
    "import sklearn.linear_model # has LinearRegression, LogisticRegression\n",
    "from sklearn.preprocessing import PolynomialFeatures\n",
    "from sklearn.neighbors import KNeighborsRegressor\n",
    "from sklearn.tree import DecisionTreeRegressor\n",
    "from sklearn.ensemble import RandomForestRegressor, AdaBoostRegressor"
   ]
  },
  {
   "cell_type": "code",
   "execution_count": null,
   "metadata": {},
   "outputs": [],
   "source": [
    "# functions to run models\n",
    "\n",
    "def model_training(model_name, model, X_train, y_train):\n",
    "    model.fit(X_train, y_train)\n",
    "    return model\n",
    "    \n",
    "def model_prediction(model, X_test):\n",
    "    y_pred = model.predict(X_test)\n",
    "    return y_pred\n",
    "\n",
    "def model_evaluation(model_name, y_test, y_pred):\n",
    "    print(model_name)\n",
    "    print('MAE', mean_absolute_error(y_test, y_pred))\n",
    "    print('RMSE', np.sqrt(mean_squared_error(y_test, y_pred)))\n",
    "    plt.scatter(y_test, y_pred, alpha=0.3)\n",
    "    plt.plot(range(0,5000000, 100), range(0,5000000, 100), '--r', alpha=0.3, label='Line1')\n",
    "    plt.title(model_name)\n",
    "    plt.xlabel('True Value')\n",
    "    plt.ylabel('Predict Value')\n",
    "    plt.xlim([0, 5000000])\n",
    "    plt.ylim([0, 5000000])\n",
    "    plt.show()\n",
    "    print('')\n",
    "\n",
    "def run_experiment(model_name, model, X_train, y_train, X_test):\n",
    "    train_model = model_training(model_name, model, X_train, y_train)\n",
    "    predictions = model_prediction(train_model, X_test)\n",
    "    model_evaluation(model_name, y_test, predictions)"
   ]
  },
  {
   "cell_type": "code",
   "execution_count": null,
   "metadata": {},
   "outputs": [],
   "source": [
    "X_columns = ['accomodates', 'bathrooms', 'first_review', 'host_response_rate', 'host_since', 'last_review', 'number_of_reviews', \n",
    "             'review_scores_rating', 'bedrooms', 'beds'] + list(df_proptype.columns) + list(df_roomtype.columns) + \n",
    "    list(df_bedtype.columns) + list(df_cancel.columns) + list(df_cleanfee.columns) + list(df_city.columns) + list(df_zipcode.columns) + \n",
    "    ['host_pic_false', 'host_pic_true', 'host_id_false', 'host_id_true', 'instant_false', 'instant_true']\n",
    "y_column = ['log_price']"
   ]
  },
  {
   "cell_type": "code",
   "execution_count": null,
   "metadata": {},
   "outputs": [],
   "source": [
    "# normalizing columns to be on same scale as log_price"
   ]
  }
 ],
 "metadata": {
  "kernelspec": {
   "display_name": "Python 3",
   "language": "python",
   "name": "python3"
  },
  "language_info": {
   "codemirror_mode": {
    "name": "ipython",
    "version": 3
   },
   "file_extension": ".py",
   "mimetype": "text/x-python",
   "name": "python",
   "nbconvert_exporter": "python",
   "pygments_lexer": "ipython3",
   "version": "3.6.5"
  }
 },
 "nbformat": 4,
 "nbformat_minor": 2
}
